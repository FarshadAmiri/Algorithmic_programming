{
  "nbformat": 4,
  "nbformat_minor": 0,
  "metadata": {
    "colab": {
      "name": "Fibonacci_time_Order_analysis.ipynb",
      "provenance": [],
      "collapsed_sections": [],
      "authorship_tag": "ABX9TyOUVoMjIRZi/xFq8cSrnONt",
      "include_colab_link": true
    },
    "kernelspec": {
      "name": "python3",
      "display_name": "Python 3"
    },
    "language_info": {
      "name": "python"
    }
  },
  "cells": [
    {
      "cell_type": "markdown",
      "metadata": {
        "id": "view-in-github",
        "colab_type": "text"
      },
      "source": [
        "<a href=\"https://colab.research.google.com/github/FarshadAmiri/Algorithmic_programming/blob/main/Fibonacci_time_Order_analysis.ipynb\" target=\"_parent\"><img src=\"https://colab.research.google.com/assets/colab-badge.svg\" alt=\"Open In Colab\"/></a>"
      ]
    },
    {
      "cell_type": "code",
      "metadata": {
        "id": "p9c5kBTKyYvM"
      },
      "source": [
        "import matplotlib.pyplot as plt\n",
        "import numpy as np"
      ],
      "execution_count": 15,
      "outputs": []
    },
    {
      "cell_type": "markdown",
      "metadata": {
        "id": "hW6oqbDp08eZ"
      },
      "source": [
        "## Fibonnaci time Order analysis\n",
        "## T(n) = T(n−1) + T(n−2)\n",
        "## T(0)=T(1)=1"
      ]
    },
    {
      "cell_type": "code",
      "metadata": {
        "id": "wWX3DAwDwnbP"
      },
      "source": [
        "def fibo(n):\n",
        "  d = {1:1 ,2:1}\n",
        "  for i in range(3,n+1):\n",
        "    d[i] = d[i-1] + d[i-2]\n",
        "  return d[n]"
      ],
      "execution_count": 5,
      "outputs": []
    },
    {
      "cell_type": "code",
      "metadata": {
        "colab": {
          "base_uri": "https://localhost:8080/"
        },
        "id": "Q4SCyJM91lEj",
        "outputId": "889be1ca-d7b8-42eb-e7be-58f2760f4a01"
      },
      "source": [
        "x = 8\n",
        "fibo(x) / fibo(x-1)"
      ],
      "execution_count": 44,
      "outputs": [
        {
          "output_type": "execute_result",
          "data": {
            "text/plain": [
              "1.6153846153846154"
            ]
          },
          "metadata": {
            "tags": []
          },
          "execution_count": 44
        }
      ]
    },
    {
      "cell_type": "code",
      "metadata": {
        "id": "gCl7MGBrxqtK"
      },
      "source": [
        "def fibo_diff(n):\n",
        "  d = {1:1 ,2:1}\n",
        "  for i in range(3,n+1):\n",
        "    d[i] = d[i-1] + d[i-2]\n",
        "  return d[n] - d[n-1]"
      ],
      "execution_count": 9,
      "outputs": []
    },
    {
      "cell_type": "code",
      "metadata": {
        "id": "aDiTswBg0kwA"
      },
      "source": [
        "n = 35"
      ],
      "execution_count": 35,
      "outputs": []
    },
    {
      "cell_type": "code",
      "metadata": {
        "id": "3bFIyxwxxt4Y"
      },
      "source": [
        "diff = np.array([1,0])\n",
        "for i in range(2,n):\n",
        "  diff = np.vstack((diff, np.array([i, fibo_diff(i)])))"
      ],
      "execution_count": 36,
      "outputs": []
    },
    {
      "cell_type": "code",
      "metadata": {
        "colab": {
          "base_uri": "https://localhost:8080/",
          "height": 350
        },
        "id": "aCWoJHejySnM",
        "outputId": "4616db23-c9fc-4745-ea46-77d33e576605"
      },
      "source": [
        "plt.figure(figsize=(7,5))\n",
        "plt.plot(diff[:,0], diff[:,1], label = 'fibonacci growth [fibo_diff(n)]')\n",
        "plt.plot(np.arange(0,n,1), np.power(np.arange(0,n,1),4), label = 'X**2', color='k')\n",
        "plt.legend()"
      ],
      "execution_count": 50,
      "outputs": [
        {
          "output_type": "execute_result",
          "data": {
            "text/plain": [
              "<matplotlib.legend.Legend at 0x7ffb5c485590>"
            ]
          },
          "metadata": {
            "tags": []
          },
          "execution_count": 50
        },
        {
          "output_type": "display_data",
          "data": {
            "image/png": "[encoded data removed]",
            "text/plain": [
              "<Figure size 504x360 with 1 Axes>"
            ]
          },
          "metadata": {
            "tags": [],
            "needs_background": "light"
          }
        }
      ]
    },
    {
      "cell_type": "markdown",
      "metadata": {
        "id": "T2j6cjqz20QW"
      },
      "source": [
        "*   So --> Order(fibo(n)) > O(n**2)\n",
        "*   It's proven that Order (fibo(n)) : O(2**n)\n",
        "\n"
      ]
    }
  ]
}