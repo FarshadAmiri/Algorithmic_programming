{
  "nbformat": 4,
  "nbformat_minor": 0,
  "metadata": {
    "colab": {
      "name": "Recursive_algorithms_benchmark_problems.ipynb",
      "provenance": [],
      "collapsed_sections": []
    },
    "kernelspec": {
      "name": "python3",
      "display_name": "Python 3"
    },
    "language_info": {
      "name": "python"
    },
    "accelerator": "GPU"
  },
  "cells": [
    {
      "cell_type": "code",
      "metadata": {
        "id": "1AyLfX5pYmIC"
      },
      "source": [
        "import sys\n",
        "import math\n",
        "import time\n",
        "from decimal import Decimal"
      ],
      "execution_count": 13,
      "outputs": []
    },
    {
      "cell_type": "code",
      "metadata": {
        "colab": {
          "base_uri": "https://localhost:8080/"
        },
        "id": "TYd7DIpPzPiM",
        "outputId": "8762453a-9632-401e-c621-0d07fb23dfca"
      },
      "source": [
        "print(sys.getrecursionlimit())\n",
        "sys.setrecursionlimit(10**6)\n",
        "print(sys.getrecursionlimit())"
      ],
      "execution_count": 14,
      "outputs": [
        {
          "output_type": "stream",
          "text": [
            "1000000\n",
            "1000000\n"
          ],
          "name": "stdout"
        }
      ]
    },
    {
      "cell_type": "markdown",
      "metadata": {
        "id": "vPhVmtVaYzYO"
      },
      "source": [
        "## Factoriel funcion (Comparing recursive programming & Non-recursive programming)"
      ]
    },
    {
      "cell_type": "code",
      "metadata": {
        "id": "IFvrOtuaYsiE"
      },
      "source": [
        "# Factoriel funcion (Recursive programming)\n",
        "# with time complexity of O(n)\n",
        "\n",
        "def factoriel_rec(n):\n",
        "  if n==1:\n",
        "    return n\n",
        "  else:\n",
        "    return n * factoriel_rec(n-1)"
      ],
      "execution_count": 15,
      "outputs": []
    },
    {
      "cell_type": "code",
      "metadata": {
        "id": "gJuSENt3ZGqn"
      },
      "source": [
        "# Factoriel funcion (Non-Recursive programming - more optimized)\n",
        "# with time complexity of O(n)\n",
        "\n",
        "def factoriel_nonrec(n):\n",
        "  result = 1\n",
        "  for i in range(1,n+1):\n",
        "    result *= i\n",
        "  return result"
      ],
      "execution_count": 16,
      "outputs": []
    },
    {
      "cell_type": "markdown",
      "metadata": {
        "id": "b5SQOiWuaJOp"
      },
      "source": [
        "These two implementations have same time complexity order but in terms of memory complexity, the non-recursive function is much more efficient.  "
      ]
    },
    {
      "cell_type": "code",
      "metadata": {
        "colab": {
          "base_uri": "https://localhost:8080/"
        },
        "id": "IDMPBO7yY2pN",
        "outputId": "23e1a11e-3859-4e4a-c732-19ca5154e1f6"
      },
      "source": [
        "t1 = time.time()\n",
        "\n",
        "a = factoriel_rec(10000)\n",
        "print(str(a)[:1]+'.'+str(a)[1:3]+'e'+str(len(str(a//10))))\n",
        "\n",
        "print(f'{(time.time()-t1):.6f} seconds')"
      ],
      "execution_count": 17,
      "outputs": [
        {
          "output_type": "stream",
          "text": [
            "2.84e35659\n",
            "0.085300 seconds\n"
          ],
          "name": "stdout"
        }
      ]
    },
    {
      "cell_type": "code",
      "metadata": {
        "colab": {
          "base_uri": "https://localhost:8080/"
        },
        "id": "dtRhxAT-aKdl",
        "outputId": "90a0a00d-05b2-4cb2-eea0-f98f8715bb61"
      },
      "source": [
        "t1 = time.time()\n",
        "\n",
        "a = factoriel_nonrec(10000)\n",
        "print(str(a)[:1]+'.'+str(a)[1:3]+'e'+str(len(str(a//10))))\n",
        "\n",
        "print(f'{(time.time()-t1):.6f} seconds')"
      ],
      "execution_count": 18,
      "outputs": [
        {
          "output_type": "stream",
          "text": [
            "2.84e35659\n",
            "0.071746 seconds\n"
          ],
          "name": "stdout"
        }
      ]
    },
    {
      "cell_type": "markdown",
      "metadata": {
        "id": "kiXyjHBcZINq"
      },
      "source": [
        "## Fibonacci funcion (Comparing recursive programming & Non-recursive programming)"
      ]
    },
    {
      "cell_type": "code",
      "metadata": {
        "id": "IFWY_zidRPkF"
      },
      "source": [
        "# Recursive implementation of fibonacci function\n",
        "# Time complexity of O(2^n)\n",
        "# Inefficient memory consumer\n",
        "\n",
        "def fib_rec(n):\n",
        "  if n == 1:\n",
        "    return 1\n",
        "  if n == 2:\n",
        "    return 1\n",
        "  return fib_rec(n-1) + fib_rec(n-2)"
      ],
      "execution_count": 19,
      "outputs": []
    },
    {
      "cell_type": "code",
      "metadata": {
        "id": "H6RJuw8nTekc"
      },
      "source": [
        "# Non-Recursive implementation of fibonacci function (more optimized)\n",
        "# Time complexity of O(n)\n",
        "# Most efficient in terms of memory complexity\n",
        "\n",
        "def fib_nonrec(n):\n",
        "  fib_dict = {1:1 ,2:1}\n",
        "  if n <= 3:\n",
        "    return fib_dict[n-1] + fib_dict[n-2]\n",
        "  else:\n",
        "    for i in range(3,n+1):\n",
        "      fib_dict[i] = fib_dict[i-1] + fib_dict[i-2]\n",
        "  return fib_dict[n]"
      ],
      "execution_count": 23,
      "outputs": []
    },
    {
      "cell_type": "markdown",
      "metadata": {
        "id": "AmtmspQnbiuX"
      },
      "source": [
        "Here non-recursive programming results in much optimized function as well"
      ]
    },
    {
      "cell_type": "code",
      "metadata": {
        "colab": {
          "base_uri": "https://localhost:8080/"
        },
        "id": "lgpy9zSCR0DY",
        "outputId": "dfe986f7-001b-4b81-bf5d-fccf139fc2cb"
      },
      "source": [
        "t1 = time.time()\n",
        "print(fib_rec(40))\n",
        "print(f'{(time.time()-t1):.6f} seconds')"
      ],
      "execution_count": 22,
      "outputs": [
        {
          "output_type": "stream",
          "text": [
            "102334155\n",
            "23.956491 seconds\n"
          ],
          "name": "stdout"
        }
      ]
    },
    {
      "cell_type": "code",
      "metadata": {
        "colab": {
          "base_uri": "https://localhost:8080/"
        },
        "id": "urLFV5_hT6HP",
        "outputId": "7076ad19-a803-4138-a636-92305cf6d7e4"
      },
      "source": [
        "t1 = time.time()\n",
        "a = fib_nonrec(100000)\n",
        "print(str(a)[:1]+'.'+str(a)[1:3]+'e'+str(len(str(a//10))))\n",
        "print(f'{(time.time()-t1):.6f} seconds')"
      ],
      "execution_count": 24,
      "outputs": [
        {
          "output_type": "stream",
          "text": [
            "2.59e20898\n",
            "0.648301 seconds\n"
          ],
          "name": "stdout"
        }
      ]
    },
    {
      "cell_type": "markdown",
      "metadata": {
        "id": "BvovKn35kHZv"
      },
      "source": [
        "## Greatest Common Devisor (GCD)"
      ]
    },
    {
      "cell_type": "code",
      "metadata": {
        "id": "Pllk5BbRtrSb"
      },
      "source": [
        "x = 1198296\n",
        "y = 2832102"
      ],
      "execution_count": 91,
      "outputs": []
    },
    {
      "cell_type": "code",
      "metadata": {
        "colab": {
          "base_uri": "https://localhost:8080/"
        },
        "id": "wWau8VLPtlx9",
        "outputId": "50a6f602-80b3-40bb-b14a-bc412b99fb09"
      },
      "source": [
        "# Using Standard Library\n",
        "t1 = time.time()\n",
        "\n",
        "print(math.gcd(x, y))\n",
        "\n",
        "print(f'{(time.time()-t1):.6f} seconds')"
      ],
      "execution_count": 92,
      "outputs": [
        {
          "output_type": "stream",
          "text": [
            "18\n",
            "0.000204 seconds\n"
          ],
          "name": "stdout"
        }
      ]
    },
    {
      "cell_type": "code",
      "metadata": {
        "id": "siDKYOkMkJIC"
      },
      "source": [
        "# Recursive\n",
        "def gcd(x ,y):\n",
        "    if y == 0:\n",
        "        return x\n",
        "    return gcd(y, x%y)"
      ],
      "execution_count": 93,
      "outputs": []
    },
    {
      "cell_type": "code",
      "metadata": {
        "colab": {
          "base_uri": "https://localhost:8080/"
        },
        "id": "elFJju1trxHe",
        "outputId": "c389f533-c4e3-4c39-cb91-b263eb098348"
      },
      "source": [
        "t1 = time.time()\n",
        "print(gcd(x, y))\n",
        "print(f'{(time.time()-t1):.6f} seconds')"
      ],
      "execution_count": 94,
      "outputs": [
        {
          "output_type": "stream",
          "text": [
            "18\n",
            "0.000126 seconds\n"
          ],
          "name": "stdout"
        }
      ]
    },
    {
      "cell_type": "markdown",
      "metadata": {
        "id": "l3KfHyZ80kCe"
      },
      "source": [
        "A recursive program performs much more effiecient in this problem. Here is a non-recursive implementation of this function:\n",
        "\n"
      ]
    },
    {
      "cell_type": "code",
      "metadata": {
        "id": "gG7U7pkXkMbv"
      },
      "source": [
        "# Non-recursive (There are definitely much more efficinet non-recursive implementations)\n",
        "def gcd_nonrec(x, y):\n",
        "  dvd_x = set()\n",
        "  dvd_y = set()\n",
        "  for i in range(1,x):\n",
        "    if x%i == 0:\n",
        "      dvd_x.update([i,int(x/i)])\n",
        "  for i in range(1,y):\n",
        "    if y%i == 0:\n",
        "      dvd_y.update([i,int(y/i)])\n",
        "  for i in sorted(dvd_x, reverse = True):\n",
        "    if i in dvd_y:\n",
        "      return (i)"
      ],
      "execution_count": 95,
      "outputs": []
    },
    {
      "cell_type": "code",
      "metadata": {
        "colab": {
          "base_uri": "https://localhost:8080/"
        },
        "id": "-xDeD78rptPA",
        "outputId": "a0af3bcd-3b5d-4c0b-ca60-8458826069c8"
      },
      "source": [
        "t1 = time.time()\n",
        "print(gcd_nonrec(x, y))\n",
        "print(f'{(time.time()-t1):.6f} seconds')"
      ],
      "execution_count": 96,
      "outputs": [
        {
          "output_type": "stream",
          "text": [
            "18\n",
            "0.250965 seconds\n"
          ],
          "name": "stdout"
        }
      ]
    },
    {
      "cell_type": "code",
      "metadata": {
        "id": "QvQwexn65Lrd"
      },
      "source": [
        ""
      ],
      "execution_count": 53,
      "outputs": []
    }
  ]
}