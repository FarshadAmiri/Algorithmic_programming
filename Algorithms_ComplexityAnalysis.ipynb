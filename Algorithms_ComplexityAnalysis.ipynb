{
  "nbformat": 4,
  "nbformat_minor": 0,
  "metadata": {
    "colab": {
      "name": "Algorithms_ComplexityAnalysis.ipynb",
      "provenance": [],
      "collapsed_sections": [],
      "authorship_tag": "ABX9TyPhMqeaOg3FYztjSqvrGg29",
      "include_colab_link": true
    },
    "kernelspec": {
      "name": "python3",
      "display_name": "Python 3"
    },
    "language_info": {
      "name": "python"
    }
  },
  "cells": [
    {
      "cell_type": "markdown",
      "metadata": {
        "id": "view-in-github",
        "colab_type": "text"
      },
      "source": [
        "<a href=\"https://colab.research.google.com/github/FarshadAmiri/Algorithmic_programming/blob/main/Algorithms_ComplexityAnalysis.ipynb\" target=\"_parent\"><img src=\"https://colab.research.google.com/assets/colab-badge.svg\" alt=\"Open In Colab\"/></a>"
      ]
    },
    {
      "cell_type": "code",
      "metadata": {
        "id": "Qort9TDHAjug"
      },
      "source": [
        "import sys\n",
        "import time \n",
        "import matplotlib.pyplot as plt\n",
        "sys.setrecursionlimit(10**6)"
      ],
      "execution_count": 1,
      "outputs": []
    },
    {
      "cell_type": "code",
      "metadata": {
        "cellView": "form",
        "id": "MS3yXp1BkWMn"
      },
      "source": [
        "#@title DECLARING compute_time_complexity FUNCTION\n",
        "def compute_time_complexity(fn,input_growth_term='n', saving_input = 'real',input_range=(1,512), iteration_on_each_input= 200):\n",
        "  time_dict = {}\n",
        "  if len(input_range) == 2:\n",
        "    input_range = range(input_range[0], input_range[1])\n",
        "  elif len(input_range) == 3:\n",
        "    input_range = range(input_range[0], input_range[1], input_range[2])\n",
        "  \n",
        "  if input_growth_term == 'n':\n",
        "    for i in  input_range:\n",
        "      t1 = time.time()\n",
        "      for j in range(it):\n",
        "        fn(i)\n",
        "      t = (time.time() - t1)/it\n",
        "      time_dict[i] = t\n",
        "  \n",
        "  if input_growth_term == '2**n':\n",
        "    for i in  input_range:\n",
        "      t1 = time.time()\n",
        "      for j in range(it):\n",
        "        fn(2**i)\n",
        "      t = (time.time() - t1)/it\n",
        "      if saving_input == 'real':\n",
        "        time_dict[int(2**i)] = t\n",
        "      elif saving_input == 'power':\n",
        "        time_dict[i] = t\n",
        "  \n",
        "  x, y = zip(*sorted(time_dict.items()))\n",
        "  return x, y"
      ],
      "execution_count": 81,
      "outputs": []
    },
    {
      "cell_type": "markdown",
      "metadata": {
        "id": "7-PYTFxBj7Og"
      },
      "source": [
        "### Time complexity of T(n) = c"
      ]
    },
    {
      "cell_type": "code",
      "metadata": {
        "id": "pM8BNcjCkF0T"
      },
      "source": [
        "def f_c(n):\n",
        "  result = 0\n",
        "  return result "
      ],
      "execution_count": 63,
      "outputs": []
    },
    {
      "cell_type": "code",
      "metadata": {
        "colab": {
          "base_uri": "https://localhost:8080/",
          "height": 295
        },
        "id": "edgPT-ezvvST",
        "outputId": "0cbffabd-59ef-4492-cd43-91e0c5480780"
      },
      "source": [
        "x, y = compute_time_complexity(f_c, 'n','input_power', (1,5000), 20000)\n",
        "plt.plot(x[:3000],y[:3000])"
      ],
      "execution_count": 68,
      "outputs": [
        {
          "output_type": "execute_result",
          "data": {
            "text/plain": [
              "[<matplotlib.lines.Line2D at 0x7fd117d335d0>]"
            ]
          },
          "metadata": {
            "tags": []
          },
          "execution_count": 68
        },
        {
          "output_type": "display_data",
          "data": {
            "image/png": "[encoded data removed]",
            "text/plain": [
              "<Figure size 432x288 with 1 Axes>"
            ]
          },
          "metadata": {
            "tags": [],
            "needs_background": "light"
          }
        }
      ]
    },
    {
      "cell_type": "markdown",
      "metadata": {
        "id": "3Ox068DnwKPJ"
      },
      "source": [
        "As it is obvious, operation time is not increasing or decreasing as input value grows. Actually here the function doesn't do anything with the input at all! "
      ]
    },
    {
      "cell_type": "markdown",
      "metadata": {
        "id": "XN6weFp4jTEj"
      },
      "source": [
        "### Comparing time complexity of\n",
        "# T(n) = T(n/2) + 1\n",
        "# T(n) = T(n/4) + 1\n",
        "# T(n) = T(n/8) + 1"
      ]
    },
    {
      "cell_type": "code",
      "metadata": {
        "id": "AH3M0frezqeq"
      },
      "source": [
        "def f_2(n):\n",
        "  if n == 1:\n",
        "    return 1\n",
        "  return f_2(n/2) + 1"
      ],
      "execution_count": 69,
      "outputs": []
    },
    {
      "cell_type": "code",
      "metadata": {
        "id": "vBV0uiQ4DyUa"
      },
      "source": [
        "def f_4(n):\n",
        "  if n == 1:\n",
        "    return 1\n",
        "  return f_4(n/4) + 1"
      ],
      "execution_count": 70,
      "outputs": []
    },
    {
      "cell_type": "code",
      "metadata": {
        "id": "RD6PFa-d29p3"
      },
      "source": [
        "def f_8(n):\n",
        "  if n == 1:\n",
        "    return 1\n",
        "  return f_8(n/8) + 1"
      ],
      "execution_count": 71,
      "outputs": []
    },
    {
      "cell_type": "code",
      "metadata": {
        "id": "th3BhofJuAiT"
      },
      "source": [
        "x_f_2, y_f_2 = compute_time_complexity(f_2, '2**n','real', (1,512), 500)"
      ],
      "execution_count": 86,
      "outputs": []
    },
    {
      "cell_type": "code",
      "metadata": {
        "id": "4Mg4nI0huQ3y"
      },
      "source": [
        "x_f_4, y_f_4 = compute_time_complexity(f_4, '2**n','real', (2,512,2), 500)"
      ],
      "execution_count": 87,
      "outputs": []
    },
    {
      "cell_type": "code",
      "metadata": {
        "id": "xE61m_rAuVbZ"
      },
      "source": [
        "x_f_8, y_f_8 = compute_time_complexity(f_8, '2**n','real', (3,512,3), 500)"
      ],
      "execution_count": 88,
      "outputs": []
    },
    {
      "cell_type": "code",
      "metadata": {
        "colab": {
          "base_uri": "https://localhost:8080/",
          "height": 407
        },
        "id": "ENd2gZghOEuf",
        "outputId": "0348f9fe-996f-4e1e-857c-13dffa4f2f90"
      },
      "source": [
        "start = int(1e0)\n",
        "end = int(1e4)\n",
        "\n",
        "plt.figure(figsize=(8,6))\n",
        "plt.xlabel('Input value magnitude')\n",
        "plt.ylabel('Time')\n",
        "plt.plot(x_f_2[start:end], y_f_2[start:end], color='k', label='f(n) = f(n/2) + 1')\n",
        "plt.plot(x_f_4[start:end], y_f_4[start:end], color = 'g', label='f(n) = f(n/4) + 1')\n",
        "plt.plot(x_f_8[start:end], y_f_8[start:end], color = 'b', label='f(n) = f(n/8) + 1')\n",
        "plt.legend()"
      ],
      "execution_count": 94,
      "outputs": [
        {
          "output_type": "execute_result",
          "data": {
            "text/plain": [
              "<matplotlib.legend.Legend at 0x7fd11782d0d0>"
            ]
          },
          "metadata": {
            "tags": []
          },
          "execution_count": 94
        },
        {
          "output_type": "display_data",
          "data": {
            "image/png": "[encoded data removed]",
            "text/plain": [
              "<Figure size 576x432 with 1 Axes>"
            ]
          },
          "metadata": {
            "tags": [],
            "needs_background": "light"
          }
        }
      ]
    },
    {
      "cell_type": "markdown",
      "metadata": {
        "id": "YHVFdGlQyx9o"
      },
      "source": [
        "*   T(n) = T(n/2) + 1  --> O(log n) - log base = 2\n",
        "*   T(n) = T(n/4) + 1  --> O(log n) - log base = 4\n",
        "*   T(n) = T(n/8) + 1  --> O(log n) - log base = 8"
      ]
    },
    {
      "cell_type": "code",
      "metadata": {
        "id": "eh2CmNv_z_rr"
      },
      "source": [
        ""
      ],
      "execution_count": null,
      "outputs": []
    }
  ]
}