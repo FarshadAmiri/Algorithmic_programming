{
  "nbformat": 4,
  "nbformat_minor": 0,
  "metadata": {
    "colab": {
      "name": "Algorithms_ComplexityAnalysis.ipynb",
      "provenance": [],
      "collapsed_sections": [],
      "authorship_tag": "ABX9TyPusbWnFQfqhI7GD9YAPg9p",
      "include_colab_link": true
    },
    "kernelspec": {
      "name": "python3",
      "display_name": "Python 3"
    },
    "language_info": {
      "name": "python"
    }
  },
  "cells": [
    {
      "cell_type": "markdown",
      "metadata": {
        "id": "view-in-github",
        "colab_type": "text"
      },
      "source": [
        "<a href=\"https://colab.research.google.com/github/FarshadAmiri/Algorithmic_programming/blob/main/Algorithms_ComplexityAnalysis.ipynb\" target=\"_parent\"><img src=\"https://colab.research.google.com/assets/colab-badge.svg\" alt=\"Open In Colab\"/></a>"
      ]
    },
    {
      "cell_type": "code",
      "metadata": {
        "id": "Qort9TDHAjug"
      },
      "source": [
        "import sys\n",
        "import time \n",
        "import matplotlib.pyplot as plt\n",
        "sys.setrecursionlimit(10**6)"
      ],
      "execution_count": 55,
      "outputs": []
    },
    {
      "cell_type": "code",
      "metadata": {
        "id": "AH3M0frezqeq"
      },
      "source": [
        "def f_2(n):\n",
        "  if n == 1:\n",
        "    return 1\n",
        "  return f_2(n/2) + 1"
      ],
      "execution_count": 56,
      "outputs": []
    },
    {
      "cell_type": "code",
      "metadata": {
        "id": "vBV0uiQ4DyUa"
      },
      "source": [
        "def f_4(n):\n",
        "  if n == 1:\n",
        "    return 1\n",
        "  return f_4(n/4) + 1"
      ],
      "execution_count": 57,
      "outputs": []
    },
    {
      "cell_type": "code",
      "metadata": {
        "id": "RD6PFa-d29p3"
      },
      "source": [
        "def f_8(n):\n",
        "  if n == 1:\n",
        "    return 1\n",
        "  return f_8(n/8) + 1"
      ],
      "execution_count": 58,
      "outputs": []
    },
    {
      "cell_type": "code",
      "metadata": {
        "id": "DSB0Xsj53p8N"
      },
      "source": [
        "it = 1000"
      ],
      "execution_count": 59,
      "outputs": []
    },
    {
      "cell_type": "code",
      "metadata": {
        "id": "SfqolHbyMnW3"
      },
      "source": [
        "# f_2\n",
        "time_dict_2 = {}\n",
        "for i in range(1,512):\n",
        "  t1 = time.time()\n",
        "  for j in range(it):\n",
        "    f_2(2**i)\n",
        "  t = (time.time() - t1)/it\n",
        "  # time_dict_2[int(2**i)] = t\n",
        "  time_dict_2[i] = t"
      ],
      "execution_count": 60,
      "outputs": []
    },
    {
      "cell_type": "code",
      "metadata": {
        "id": "0xyKBDwozxxR"
      },
      "source": [
        "# f_4\n",
        "time_dict_4 = {}\n",
        "for i in range(2,512,2):\n",
        "  t1 = time.time()\n",
        "  for j in range(it):\n",
        "    f_4(2**i)\n",
        "  t = (time.time() - t1)/it\n",
        "  # time_dict_4[int(2**i)] = t\n",
        "  time_dict_4[i] = t"
      ],
      "execution_count": 61,
      "outputs": []
    },
    {
      "cell_type": "code",
      "metadata": {
        "id": "2jbgTZwG3B5v"
      },
      "source": [
        "# f_8\n",
        "time_dict_8 = {}\n",
        "for i in range(3,512,3):\n",
        "  t1 = time.time()\n",
        "  for j in range(it):\n",
        "    f_8(2**i)\n",
        "  t = (time.time() - t1)/it\n",
        "  # time_dict_4[int(2**i)] = t\n",
        "  time_dict_8[i] = t"
      ],
      "execution_count": 62,
      "outputs": []
    },
    {
      "cell_type": "code",
      "metadata": {
        "id": "5J5JHvvIO8lx"
      },
      "source": [
        "lists_2 = sorted(time_dict_2.items())\n",
        "x_2, y_2 = zip(*lists_2)\n",
        "\n",
        "lists_4 = sorted(time_dict_4.items())\n",
        "x_4, y_4 = zip(*lists_4)\n",
        "\n",
        "lists_8 = sorted(time_dict_8.items())\n",
        "x_8, y_8 = zip(*lists_8)"
      ],
      "execution_count": 63,
      "outputs": []
    },
    {
      "cell_type": "code",
      "metadata": {
        "colab": {
          "base_uri": "https://localhost:8080/",
          "height": 284
        },
        "id": "ENd2gZghOEuf",
        "outputId": "76ad0177-5737-47e9-d806-2bc6df419518"
      },
      "source": [
        "start = int(1e1)\n",
        "end = int(1e3)\n",
        "\n",
        "plt.plot(x_2[start:end], y_2[start:end], color='k')\n",
        "plt.plot(x_4[start:end], y_4[start:end], color = 'g')\n",
        "plt.plot(x_8[start:end], y_8[start:end], color = 'b')"
      ],
      "execution_count": 64,
      "outputs": [
        {
          "output_type": "execute_result",
          "data": {
            "text/plain": [
              "[<matplotlib.lines.Line2D at 0x7f84a1c4f410>]"
            ]
          },
          "metadata": {
            "tags": []
          },
          "execution_count": 64
        },
        {
          "output_type": "display_data",
          "data": {
            "image/png": "[encoded data removed]",
            "text/plain": [
              "<Figure size 432x288 with 1 Axes>"
            ]
          },
          "metadata": {
            "tags": [],
            "needs_background": "light"
          }
        }
      ]
    }
  ]
}