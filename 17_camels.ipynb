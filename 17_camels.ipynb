{
 "cells": [
  {
   "cell_type": "markdown",
   "metadata": {},
   "source": [
    "There are 17 camels which one has willed to distribute them to 3 persons by proportions of 1/2 , 1/3, 1/9.\n",
    "as the sum of those proportions is less than 1, what would be the best solution? (No other information)"
   ]
  },
  {
   "cell_type": "markdown",
   "metadata": {},
   "source": [
    "## Ordinary solution"
   ]
  },
  {
   "cell_type": "code",
   "execution_count": 2,
   "metadata": {},
   "outputs": [
    {
     "data": {
      "text/plain": [
       "0.9444444444444444"
      ]
     },
     "execution_count": 2,
     "metadata": {},
     "output_type": "execute_result"
    }
   ],
   "source": [
    "a = 1/9\n",
    "b = 1/3\n",
    "c = 0.5\n",
    "\n",
    "t = a + b + c\n",
    "t"
   ]
  },
  {
   "cell_type": "code",
   "execution_count": 4,
   "metadata": {},
   "outputs": [
    {
     "data": {
      "text/plain": [
       "(0.12456747404844291, 0.37370242214532867, 0.5605536332179931)"
      ]
     },
     "execution_count": 4,
     "metadata": {},
     "output_type": "execute_result"
    }
   ],
   "source": [
    "a = a / t\n",
    "b = b / t\n",
    "c = c / t\n",
    "\n",
    "a , b, c"
   ]
  },
  {
   "cell_type": "code",
   "execution_count": 23,
   "metadata": {},
   "outputs": [
    {
     "data": {
      "text/plain": [
       "(2.0, 5.999999999999999, 9.0)"
      ]
     },
     "execution_count": 23,
     "metadata": {},
     "output_type": "execute_result"
    }
   ],
   "source": [
    "n_a = a * 17\n",
    "n_b = b * 17\n",
    "n_c = c * 17\n",
    "\n",
    "n_a , n_b , n_c"
   ]
  },
  {
   "cell_type": "markdown",
   "metadata": {},
   "source": [
    "## Fractal solution"
   ]
  },
  {
   "cell_type": "code",
   "execution_count": 44,
   "metadata": {},
   "outputs": [
    {
     "name": "stdout",
     "output_type": "stream",
     "text": [
      "1.8888888888888888 5.666666666666666 8.5\n"
     ]
    }
   ],
   "source": [
    "a = 1/9\n",
    "b = 1/3\n",
    "c = 0.5\n",
    "\n",
    "n_a = a * 17\n",
    "n_b = b * 17\n",
    "n_c = c * 17\n",
    "\n",
    "print(n_a , n_b, n_c)"
   ]
  },
  {
   "cell_type": "code",
   "execution_count": 45,
   "metadata": {},
   "outputs": [
    {
     "name": "stdout",
     "output_type": "stream",
     "text": [
      "n_t_current:  16.055555555555557\n"
     ]
    }
   ],
   "source": [
    "n_t = 17\n",
    "n_t_current = n_a + n_b + n_c\n",
    "\n",
    "print(\"n_t_current: \", n_t_current)"
   ]
  },
  {
   "cell_type": "code",
   "execution_count": 46,
   "metadata": {},
   "outputs": [
    {
     "name": "stdout",
     "output_type": "stream",
     "text": [
      "16.947530864197528\n",
      "16.997085048010973\n",
      "16.99983805822283\n",
      "16.999991003234605\n",
      "16.999999500179698\n",
      "16.999999972232207\n",
      "16.999999998457344\n",
      "16.999999999914298\n",
      "16.99999999999524\n",
      "16.999999999999734\n",
      "16.999999999999986\n",
      "17.0\n"
     ]
    },
    {
     "data": {
      "text/plain": [
       "(1.9999999999999998, 5.999999999999999, 9.0)"
      ]
     },
     "execution_count": 46,
     "metadata": {},
     "output_type": "execute_result"
    }
   ],
   "source": [
    "while n_t_current < n_t:\n",
    "    n_a += (n_t - n_t_current) * a\n",
    "    n_b += (n_t - n_t_current) * b\n",
    "    n_c += (n_t - n_t_current) * c\n",
    "    \n",
    "    n_t_current = n_a + n_b + n_c\n",
    "    print(n_t_current)\n",
    "\n",
    "n_a , n_b, n_c\n"
   ]
  },
  {
   "cell_type": "code",
   "execution_count": null,
   "metadata": {},
   "outputs": [],
   "source": []
  },
  {
   "cell_type": "code",
   "execution_count": null,
   "metadata": {},
   "outputs": [],
   "source": []
  }
 ],
 "metadata": {
  "kernelspec": {
   "display_name": "Python 3 (ipykernel)",
   "language": "python",
   "name": "python3"
  },
  "language_info": {
   "codemirror_mode": {
    "name": "ipython",
    "version": 3
   },
   "file_extension": ".py",
   "mimetype": "text/x-python",
   "name": "python",
   "nbconvert_exporter": "python",
   "pygments_lexer": "ipython3",
   "version": "3.12.4"
  }
 },
 "nbformat": 4,
 "nbformat_minor": 2
}
